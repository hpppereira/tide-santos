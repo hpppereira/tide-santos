{
 "cells": [
  {
   "cell_type": "markdown",
   "metadata": {},
   "source": [
    "# Concatena os dados do Porto de Santos\n",
    "### Henrique Pereira ;  Vagner Vianna\n",
    "\n",
    "- Dados mensais\n",
    "- Vento (Estacao Meteorologica); \n",
    "- CO Praticagem (Mare)\n",
    "- Praticagem (Int e Dir correntes);\n",
    "- CPSP; \n",
    "- Palmas (Hs, Tp, Int e Dir das correntes);"
   ]
  },
  {
   "cell_type": "code",
   "execution_count": 2,
   "metadata": {
    "collapsed": false
   },
   "outputs": [],
   "source": [
    "#importa bibliotecas\n",
    "\n",
    "import os\n",
    "import numpy as np\n",
    "import pandas as pd\n",
    "import matplotlib\n",
    "import matplotlib.pylab as pl\n",
    "% matplotlib inline"
   ]
  },
  {
   "cell_type": "code",
   "execution_count": 3,
   "metadata": {
    "collapsed": false
   },
   "outputs": [
    {
     "name": "stdout",
     "output_type": "stream",
     "text": [
      "CO_Praticagem_201601.csv\n",
      "CO_Praticagem_201602.csv\n",
      "CO_Praticagem_201603.csv\n",
      "CO_Praticagem_201604.csv\n",
      "CO_Praticagem_201605.csv\n",
      "CO_Praticagem_201606.csv\n",
      "CO_Praticagem_201607.csv\n",
      "CO_Praticagem_201608.csv\n",
      "CO_Praticagem_201609.csv\n",
      "CO_Praticagem_201610.csv\n",
      "CO_Praticagem_201611.csv\n",
      "CO_Praticagem_201612.csv\n"
     ]
    }
   ],
   "source": [
    "# CO Praticagem\n",
    "# Variavel: Altura Mare\n",
    "\n",
    "pathname = os.environ['HOME'] + '/Dropbox/unimonte/data/'\n",
    "\n",
    "#listar arquivos\n",
    "lista = np.sort(os.listdir(pathname))\n",
    "\n",
    "lista_CO = []\n",
    "for l in lista:\n",
    "    if l.startswith('CO'):\n",
    "        lista_CO.append(l)\n",
    "\n",
    "lista_CO\n",
    "\n",
    "#le todos os arqivos .csv e concatena os dados\n",
    "dateparse = lambda x: pd.datetime.strptime(x, '%d/%m/%Y %H:%M')\n",
    "\n",
    "dd = pd.DataFrame()\n",
    "\n",
    "for arq in  lista_CO:\n",
    "    \n",
    "    print (arq)\n",
    "    \n",
    "    dd1 = pd.read_csv(pathname + arq, sep=';', parse_dates=[[0,1]], \n",
    "                      header=0,\n",
    "                      names=['date','hour','reg','regnr','prev'],\n",
    "                      decimal=',',\n",
    "                      date_parser=dateparse, index_col=[0],\n",
    "                      encoding='latin-1')\n",
    "    \n",
    "    dd = pd.concat([dd, dd1])\n",
    "\n",
    "#salva arquivo concatenado\n",
    "dd.to_csv(pathname + 'proc/' + 'Praticagem_Mare_2016.csv', na_rep='NaN')"
   ]
  },
  {
   "cell_type": "code",
   "execution_count": 4,
   "metadata": {
    "collapsed": false
   },
   "outputs": [
    {
     "name": "stdout",
     "output_type": "stream",
     "text": [
      "vento_201601.csv\n",
      "vento_201602.csv\n",
      "vento_201603.csv\n",
      "vento_201604.csv\n",
      "vento_201605.csv\n",
      "vento_201606.csv\n",
      "vento_201607.csv\n",
      "vento_201608.csv\n",
      "vento_201609.csv\n",
      "vento_201610.csv\n",
      "vento_201611.csv\n",
      "vento_201612.csv\n"
     ]
    }
   ],
   "source": [
    "# Praticagem\n",
    "# Variavel: Vento\n",
    "\n",
    "# Colunas --> Date ; Time ;Temperatura °C ;Umidade % ;\n",
    "# Pressão Barometrica hPa ; Temperatura Minima °C ;\n",
    "# Umidade % ;Visibilidade m ;Velocidade do Vento act kts ;\n",
    "# Velocidade Maxima kts ;Direção do Vento ° ;\n",
    "# Precipitação Absoluta mm ; Precipitação Diferenciada mm ;\n",
    "# Intesidade Precipitação mm/h ; Temperatura Maxima °C ;Umidade % \n",
    "\n",
    "pathname = os.environ['HOME'] + '/Dropbox/unimonte/data/'\n",
    "\n",
    "#listar arquivos\n",
    "lista = np.sort(os.listdir(pathname))\n",
    "\n",
    "lista_vento = []\n",
    "for l in lista:\n",
    "    if l.startswith('vento'):\n",
    "        lista_vento.append(l)\n",
    "\n",
    "lista_vento\n",
    "\n",
    "dateparse = lambda x: pd.datetime.strptime(x, '%d/%m/%Y %H:%M:%S')\n",
    "\n",
    "dd = pd.DataFrame()\n",
    "\n",
    "for arq in  lista_vento:\n",
    "    \n",
    "    print (arq)\n",
    "    \n",
    "    dd1 = pd.read_csv(pathname + arq, sep=';', parse_dates=[[0,1]],\n",
    "                      header=0, names=['date','hour','ate','rh',\n",
    "                      'bp','atemin','rh1','vis','ws','wsmax','wd',\n",
    "                      'chuvaabs','chuvadif','chuvaint','atemax','rh2'],\n",
    "                      date_parser=dateparse, index_col=[0],\n",
    "                      encoding='latin-1', low_memory=False)\n",
    "\n",
    "    dd = pd.concat([dd, dd1])\n",
    "\n",
    "#substitui ?? por Nan\n",
    "dd.ix[np.where(np.array(dd) == '??')] = 'NaN'\n",
    "\n",
    "#salva arquivo concatenado\n",
    "dd.to_csv(pathname + 'proc/' + 'Praticagem_Vento_2016.csv', na_rep='NaN')"
   ]
  },
  {
   "cell_type": "code",
   "execution_count": 5,
   "metadata": {
    "collapsed": false
   },
   "outputs": [
    {
     "name": "stdout",
     "output_type": "stream",
     "text": [
      "Praticagem_201601.xlsx\n",
      "Praticagem_201602.xlsx\n",
      "Praticagem_201603.xlsx\n",
      "Praticagem_201604.xlsx\n",
      "Praticagem_201605.xlsx\n",
      "Praticagem_201606.xlsx\n",
      "Praticagem_201607.xlsx\n",
      "Praticagem_201608.xlsx\n",
      "Praticagem_201609.xlsx\n",
      "Praticagem_201610.xlsx\n",
      "Praticagem_201611.xlsx\n",
      "Praticagem_201612.xlsx\n"
     ]
    }
   ],
   "source": [
    "# Praticagem\n",
    "# Variavel: Correntes (Intensidade e Direcao)\n",
    "\n",
    "pathname = os.environ['HOME'] + '/Dropbox/unimonte/data/'\n",
    "\n",
    "#listar arquivos\n",
    "lista = np.sort(os.listdir(pathname))\n",
    "\n",
    "lista_Praticagem = []\n",
    "for l in lista:\n",
    "    if l.startswith('Praticagem'):\n",
    "        lista_Praticagem.append(l)\n",
    "\n",
    "lista_Praticagem\n",
    "        \n",
    "dd = pd.DataFrame()\n",
    "\n",
    "for arq in lista_Praticagem:\n",
    "    \n",
    "    print (arq)\n",
    "    \n",
    "    dd1 = pd.read_excel(pathname + arq, skiprows=4, \n",
    "                   names=['date_hour','int','dir'])\n",
    "\n",
    "    dd1 = dd1.set_index('date_hour')\n",
    "\n",
    "    dd = pd.concat([dd, dd1])\n",
    "\n",
    "#salva arquivo concatenado\n",
    "dd.to_csv(pathname + 'proc/' + 'Praticagem_Correntes_2016.csv', na_rep='NaN')"
   ]
  },
  {
   "cell_type": "code",
   "execution_count": 6,
   "metadata": {
    "collapsed": false
   },
   "outputs": [
    {
     "name": "stdout",
     "output_type": "stream",
     "text": [
      "CPSP_201601.xlsx\n",
      "CPSP_201603.xlsx\n",
      "CPSP_201604.xlsx\n",
      "CPSP_201605.xlsx\n",
      "CPSP_201606.xlsx\n",
      "CPSP_201607.xlsx\n",
      "CPSP_201608.xlsx\n",
      "CPSP_201609.xlsx\n",
      "CPSP_201610.xlsx\n",
      "CPSP_201611.xlsx\n",
      "CPSP_201612.xlsx\n"
     ]
    }
   ],
   "source": [
    "#CPSP\n",
    "# Variavel: Correntes (Intensidade e Direcao)\n",
    "\n",
    "pathname = os.environ['HOME'] + '/Dropbox/unimonte/data/'\n",
    "\n",
    "#listar arquivos\n",
    "lista = np.sort(os.listdir(pathname))\n",
    "\n",
    "lista_cpsp = []\n",
    "for l in lista:\n",
    "    if l.startswith('CPSP'):\n",
    "        lista_cpsp.append(l)\n",
    "\n",
    "lista_cpsp\n",
    "\n",
    "dd = pd.DataFrame()\n",
    "\n",
    "for arq in  lista_cpsp:\n",
    "    \n",
    "    print (arq)\n",
    "    \n",
    "    dd1 = pd.read_excel(pathname + arq, skiprows=4, \n",
    "                       header=None, names=['date_hour','int','dir'])\n",
    "    \n",
    "    dd1 = dd1.set_index('date_hour')\n",
    "\n",
    "\n",
    "    dd = pd.concat([dd, dd1])\n",
    "    \n",
    "#salva arquivo concatenado\n",
    "dd.to_csv(pathname + 'proc/' + 'CPSP_Correntes_2016.csv', na_rep='NaN')"
   ]
  },
  {
   "cell_type": "code",
   "execution_count": 7,
   "metadata": {
    "collapsed": false
   },
   "outputs": [
    {
     "name": "stdout",
     "output_type": "stream",
     "text": [
      "Palmas_201601.xlsx\n",
      "Palmas_201603.xlsx\n",
      "Palmas_201604.xlsx\n",
      "Palmas_201605.xlsx\n",
      "Palmas_201606.xlsx\n",
      "Palmas_201607.xlsx\n",
      "Palmas_201608.xlsx\n",
      "Palmas_201609.xlsx\n",
      "Palmas_201610.xlsx\n",
      "Palmas_201611.xlsx\n",
      "Palmas_201612.xlsx\n"
     ]
    }
   ],
   "source": [
    "# Palmas\n",
    "# Variavel: Ondas (Hs e Tp) e Correntes (Intensidade e Direcao)\n",
    "\n",
    "pathname = os.environ['HOME'] + '/Dropbox/unimonte/data/'\n",
    "\n",
    "#listar arquivos\n",
    "lista = np.sort(os.listdir(pathname))\n",
    "\n",
    "lista_palmas = []\n",
    "for l in lista:\n",
    "    if l.startswith('Palmas'):\n",
    "        lista_palmas.append(l)\n",
    "\n",
    "lista_palmas\n",
    "\n",
    "dd = pd.DataFrame()\n",
    "\n",
    "for arq in  lista_palmas:\n",
    "    \n",
    "    print (arq)\n",
    "    \n",
    "    dd1 = pd.read_excel(pathname + arq, skiprows=4, \n",
    "                       header=None, names=['date_hour','hs','tp','int','dir'])\n",
    "    \n",
    "    dd1 = dd1.set_index('date_hour')\n",
    "\n",
    "    dd = pd.concat([dd, dd1])\n",
    "    \n",
    "#salva arquivo concatenado\n",
    "dd.to_csv(pathname + 'proc/' + 'Palmas_Correntes_Ondas_2016.csv', na_rep='NaN')"
   ]
  },
  {
   "cell_type": "code",
   "execution_count": null,
   "metadata": {
    "collapsed": true
   },
   "outputs": [],
   "source": []
  }
 ],
 "metadata": {
  "anaconda-cloud": {},
  "kernelspec": {
   "display_name": "Python 2",
   "language": "python",
   "name": "python2"
  },
  "language_info": {
   "codemirror_mode": {
    "name": "ipython",
    "version": 2
   },
   "file_extension": ".py",
   "mimetype": "text/x-python",
   "name": "python",
   "nbconvert_exporter": "python",
   "pygments_lexer": "ipython2",
   "version": "2.7.13"
  }
 },
 "nbformat": 4,
 "nbformat_minor": 0
}
