{
 "cells": [
  {
   "cell_type": "markdown",
   "metadata": {},
   "source": [
    "# Consiste e Interpola Dados do porto de Santos\n",
    "### Verificar espaçamento (gap) nos dados"
   ]
  },
  {
   "cell_type": "code",
   "execution_count": 1,
   "metadata": {
    "collapsed": false
   },
   "outputs": [],
   "source": [
    "import pandas as pd\n",
    "import matplotlib.pylab as pl\n",
    "import numpy as np\n",
    "%matplotlib qt5"
   ]
  },
  {
   "cell_type": "markdown",
   "metadata": {},
   "source": [
    "# Praticagem - Maré"
   ]
  },
  {
   "cell_type": "code",
   "execution_count": null,
   "metadata": {
    "collapsed": false
   },
   "outputs": [],
   "source": [
    "# Carrega dados e interpola\n",
    "\n",
    "prat_mare = pd.read_csv('../data/proc/Praticagem_Mare_2016.csv', parse_dates=['date_hour'], index_col='date_hour')\n",
    "\n",
    "# reamostra dados a cada hora substituindo o NaN\n",
    "# e salva arquivo reamostrado\n",
    "prat_mare1 = prat_mare.resample('H').mean().bfill()\n",
    "\n",
    "#croa variavel com a mare em relacao ao nivel medio\n",
    "prat_mare1['regnm'] = prat_mare1['regnr'] - prat_mare1['regnr'].mean()\n",
    "\n",
    "prat_mare1.to_csv('../data/proc/Praticagem_Mare_2016_int.csv')"
   ]
  },
  {
   "cell_type": "code",
   "execution_count": null,
   "metadata": {
    "collapsed": false
   },
   "outputs": [],
   "source": [
    "#avaliacao dos dados faltando por mes\n",
    "\n",
    "prat_mare2 = prat_mare.resample('H').mean()\n",
    "\n",
    "for i in range(1,13):\n",
    "\n",
    "    mes = str(i)\n",
    "    \n",
    "    print ('==========================')\n",
    "    \n",
    "    #quantidade de dados no mes (referencia ao arquivo original)\n",
    "    print ('Quantidade de dados no mes: %i:' %prat_mare.reg['2016-' + str(i)].shape[0])\n",
    "\n",
    "    #quantidade de dados FALTANDO no mes (referencia ao arquivo interpolado)\n",
    "    print (prat_mare2['2016-' + mes].ix[pl.find(prat_mare2['2016-' + mes].regnr.isnull() == True)])"
   ]
  },
  {
   "cell_type": "markdown",
   "metadata": {},
   "source": [
    "# Praticagem - Vento"
   ]
  },
  {
   "cell_type": "code",
   "execution_count": null,
   "metadata": {
    "collapsed": false
   },
   "outputs": [],
   "source": [
    "# carrega e interpola de hora em hora os dados de vento\n",
    "\n",
    "vento = pd.read_csv('../data/proc/Praticagem_Vento_2016.csv', parse_dates=['date_hour'], index_col='date_hour')\n",
    "\n",
    "vento1 = vento.resample('H').mean().bfill()\n",
    "\n",
    "vento1.to_csv('../data/proc/Praticagem_Vento_2016_int.csv')"
   ]
  },
  {
   "cell_type": "code",
   "execution_count": null,
   "metadata": {
    "collapsed": false
   },
   "outputs": [],
   "source": [
    "#avaliacao dos dados faltando por mes (referencia a velocidade do vento 'ws')\n",
    "\n",
    "vento2 = vento.resample('H').mean()\n",
    "\n",
    "for i in range(1,13):\n",
    "\n",
    "    mes = str(i)\n",
    "    \n",
    "    print ('==========================')\n",
    "    \n",
    "    #quantidade de dados no mes (referencia ao arquivo original)\n",
    "    print ('Quantidade de dados no mes: %i:' %vento.ws['2016-' + str(i)].shape[0])\n",
    "\n",
    "    #quantidade de dados FALTANDO no mes (referencia ao arquivo interpolado)\n",
    "    print (vento2['2016-' + mes].ix[pl.find(vento2['2016-' + mes].ws.isnull() == True)])"
   ]
  },
  {
   "cell_type": "markdown",
   "metadata": {},
   "source": [
    "# Praticagem - Correntes"
   ]
  },
  {
   "cell_type": "code",
   "execution_count": null,
   "metadata": {
    "collapsed": false
   },
   "outputs": [],
   "source": [
    "prat_corr = pd.read_csv('../data/proc/Praticagem_Correntes_2016.csv', parse_dates=['date_hour'], index_col='date_hour')\n",
    "\n",
    "#arquivo interpolado sem nan\n",
    "prat_corr1 = prat_corr.resample('H').mean().bfill()\n",
    "\n",
    "prat_corr1.to_csv('../data/proc/Praticagem_Correntes_2016_int.csv')"
   ]
  },
  {
   "cell_type": "code",
   "execution_count": null,
   "metadata": {
    "collapsed": false
   },
   "outputs": [],
   "source": [
    "#avaliacao dos dados faltando por mes\n",
    "\n",
    "prat_corr2 = prat_corr.resample('H').mean()\n",
    "\n",
    "for i in range(1,13):\n",
    "\n",
    "    mes = str(i)\n",
    "    \n",
    "    print ('==========================')\n",
    "    \n",
    "    #quantidade de dados no mes (referencia ao arquivo original)\n",
    "    print ('Quantidade de dados no mes: %i:' %prat_corr.int['2016-' + str(i)].shape[0])\n",
    "\n",
    "    #quantidade de dados FALTANDO no mes (referencia ao arquivo interpolado)\n",
    "    print (prat_corr2['2016-' + mes].ix[pl.find(prat_corr2['2016-' + mes].int.isnull() == True)])"
   ]
  },
  {
   "cell_type": "markdown",
   "metadata": {},
   "source": [
    "# CPSP - Correntes"
   ]
  },
  {
   "cell_type": "code",
   "execution_count": null,
   "metadata": {
    "collapsed": false
   },
   "outputs": [],
   "source": [
    "cpsp_corr = pd.read_csv('../data/proc/CPSP_Correntes_2016.csv', parse_dates=['date_hour'], index_col='date_hour')\n",
    "\n",
    "cpsp_corr1 = cpsp_corr.resample('H').mean().bfill()\n",
    "\n",
    "cpsp_corr1.to_csv('../data/proc/CPSP_Correntes_2016_int.csv')"
   ]
  },
  {
   "cell_type": "code",
   "execution_count": null,
   "metadata": {
    "collapsed": false
   },
   "outputs": [],
   "source": [
    "#avaliacao dos dados faltando por mes\n",
    "\n",
    "#interpola os dados sem nan_fill\n",
    "cpsp_corr2 = cpsp_corr.resample('H').mean()\n",
    "\n",
    "for i in range(1,13):\n",
    "\n",
    "    mes = str(i)\n",
    "    \n",
    "    print ('==========================')\n",
    "    \n",
    "    #quantidade de dados no mes (referencia ao arquivo original)\n",
    "    print ('Quantidade de dados no mes: %i:' %cpsp_corr.int['2016-' + str(i)].shape[0])\n",
    "\n",
    "    #quantidade de dados FALTANDO no mes (referencia ao arquivo interpolado)\n",
    "    print (cpsp_corr2['2016-' + mes].ix[pl.find(cpsp_corr2['2016-' + mes].int.isnull() == True)])"
   ]
  },
  {
   "cell_type": "markdown",
   "metadata": {},
   "source": [
    "# Palmas - Ondas e Correntes"
   ]
  },
  {
   "cell_type": "code",
   "execution_count": null,
   "metadata": {
    "collapsed": false
   },
   "outputs": [],
   "source": [
    "palmas_corronda = pd.read_csv('../data/proc/Palmas_Correntes_Ondas_2016.csv', parse_dates=['date_hour'], index_col='date_hour')\n",
    "\n",
    "palmas_corronda1 = palmas_corronda.resample('H').mean().bfill()\n",
    "\n",
    "palmas_corronda1.to_csv('../data/proc/Palmas_Correntes_Ondas_2016_int.csv')"
   ]
  },
  {
   "cell_type": "code",
   "execution_count": null,
   "metadata": {
    "collapsed": false
   },
   "outputs": [],
   "source": [
    "#avaliacao dos dados faltando por mes\n",
    "\n",
    "#interpola os dados sem nan_fill\n",
    "palmas_corronda2 = palmas_corronda.resample('H').mean()\n",
    "\n",
    "for i in range(1,13):\n",
    "\n",
    "    mes = str(i)\n",
    "    \n",
    "    print ('==========================')\n",
    "    \n",
    "    #quantidade de dados no mes (referencia ao arquivo original)\n",
    "    print ('Quantidade de dados no mes: %i:' %palmas_corronda.int['2016-' + str(i)].shape[0])\n",
    "\n",
    "    #quantidade de dados FALTANDO no mes (referencia ao arquivo interpolado)\n",
    "    print (palmas_corronda2['2016-' + mes].ix[pl.find(palmas_corronda2['2016-' + mes].int.isnull() == True)])"
   ]
  }
 ],
 "metadata": {
  "anaconda-cloud": {},
  "kernelspec": {
   "display_name": "Python 2",
   "language": "python",
   "name": "python2"
  },
  "language_info": {
   "codemirror_mode": {
    "name": "ipython",
    "version": 2
   },
   "file_extension": ".py",
   "mimetype": "text/x-python",
   "name": "python",
   "nbconvert_exporter": "python",
   "pygments_lexer": "ipython2",
   "version": "2.7.13"
  }
 },
 "nbformat": 4,
 "nbformat_minor": 1
}
